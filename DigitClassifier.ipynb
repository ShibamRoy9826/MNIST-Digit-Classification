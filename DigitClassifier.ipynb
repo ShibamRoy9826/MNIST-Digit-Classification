{
 "cells": [
  {
   "cell_type": "markdown",
   "id": "6b0330d1",
   "metadata": {},
   "source": [
    "# MNIST Digit Classification Program\n"
   ]
  },
  {
   "cell_type": "markdown",
   "id": "20e285d9",
   "metadata": {},
   "source": [
    "## Imports"
   ]
  },
  {
   "cell_type": "code",
   "execution_count": 1,
   "id": "b01a16b8",
   "metadata": {},
   "outputs": [],
   "source": [
    "# Basic computation\n",
    "import numpy as np\n",
    "\n",
    "# Dataset\n",
    "from tensorflow.keras.datasets import mnist\n",
    "\n",
    "# Tensorflow\n",
    "from tensorflow import keras\n",
    "\n",
    "# For computer vision tasks/to show images and etc...\n",
    "from PIL import Image\n",
    "\n",
    "# # For visualizing data\n",
    "# from matplotlib import pyplot as plt"
   ]
  },
  {
   "cell_type": "markdown",
   "id": "a309740a",
   "metadata": {},
   "source": [
    "## Loading the dataset"
   ]
  },
  {
   "cell_type": "code",
   "execution_count": 2,
   "id": "f20bf600",
   "metadata": {},
   "outputs": [],
   "source": [
    "(x_train,y_train),(x_test,y_test)=mnist.load_data()\n",
    "# The dataset is already seperated by default"
   ]
  },
  {
   "cell_type": "code",
   "execution_count": 3,
   "id": "447f4627",
   "metadata": {},
   "outputs": [
    {
     "data": {
      "text/plain": [
       "(60000, 28, 28)"
      ]
     },
     "execution_count": 3,
     "metadata": {},
     "output_type": "execute_result"
    }
   ],
   "source": [
    "x_train.shape"
   ]
  },
  {
   "cell_type": "code",
   "execution_count": 4,
   "id": "b54bde5a",
   "metadata": {},
   "outputs": [
    {
     "data": {
      "text/plain": [
       "(10000, 28, 28)"
      ]
     },
     "execution_count": 4,
     "metadata": {},
     "output_type": "execute_result"
    }
   ],
   "source": [
    "x_test.shape"
   ]
  },
  {
   "cell_type": "markdown",
   "id": "edc236c8",
   "metadata": {},
   "source": [
    "## Flattening the data"
   ]
  },
  {
   "cell_type": "code",
   "execution_count": 5,
   "id": "1a80e975",
   "metadata": {},
   "outputs": [],
   "source": [
    "x_train_flattened=x_train.reshape(len(x_train),28*28)\n",
    "x_test_flattened=x_test.reshape(len(x_test),28*28)\n",
    "\n",
    "\n",
    "x_train_flattened=x_train_flattened/255\n",
    "x_test_flattened=x_test_flattened/255"
   ]
  },
  {
   "cell_type": "markdown",
   "id": "86059274",
   "metadata": {},
   "source": [
    "## The Model..."
   ]
  },
  {
   "cell_type": "code",
   "execution_count": 6,
   "id": "76d01c7d",
   "metadata": {},
   "outputs": [],
   "source": [
    "model=keras.Sequential()\n",
    "\n",
    "# The Dense Layer(input layer)\n",
    "model.add(keras.layers.Dense(60,input_shape=(784,),activation='sigmoid'))\n",
    "\n",
    "# The hidden layer\n",
    "model.add(keras.layers.Dense(60,activation='relu'))\n",
    "\n",
    "# The second hidden layer\n",
    "model.add(keras.layers.Dense(60,activation='relu'))\n",
    "\n",
    "# Finally, the output layer....\n",
    "model.add(keras.layers.Dense(10,activation='sigmoid'))"
   ]
  },
  {
   "cell_type": "markdown",
   "id": "79954cce",
   "metadata": {},
   "source": [
    "## Fitting the data"
   ]
  },
  {
   "cell_type": "code",
   "execution_count": 7,
   "id": "e4dd8867",
   "metadata": {},
   "outputs": [
    {
     "name": "stdout",
     "output_type": "stream",
     "text": [
      "Epoch 1/10\n",
      "1875/1875 [==============================] - 29s 5ms/step - loss: 0.3762 - accuracy: 0.8899\n",
      "Epoch 2/10\n",
      "1875/1875 [==============================] - 9s 5ms/step - loss: 0.1678 - accuracy: 0.9499\n",
      "Epoch 3/10\n",
      "1875/1875 [==============================] - 9s 5ms/step - loss: 0.1225 - accuracy: 0.9632\n",
      "Epoch 4/10\n",
      "1875/1875 [==============================] - 9s 5ms/step - loss: 0.0987 - accuracy: 0.9698\n",
      "Epoch 5/10\n",
      "1875/1875 [==============================] - 10s 5ms/step - loss: 0.0808 - accuracy: 0.9751\n",
      "Epoch 6/10\n",
      "1875/1875 [==============================] - 9s 5ms/step - loss: 0.0686 - accuracy: 0.9786\n",
      "Epoch 7/10\n",
      "1875/1875 [==============================] - 10s 5ms/step - loss: 0.0585 - accuracy: 0.9811\n",
      "Epoch 8/10\n",
      "1875/1875 [==============================] - 10s 5ms/step - loss: 0.0513 - accuracy: 0.9836\n",
      "Epoch 9/10\n",
      "1875/1875 [==============================] - 9s 5ms/step - loss: 0.0441 - accuracy: 0.9854\n",
      "Epoch 10/10\n",
      "1875/1875 [==============================] - 9s 5ms/step - loss: 0.0385 - accuracy: 0.9876\n"
     ]
    },
    {
     "data": {
      "text/plain": [
       "<keras.callbacks.History at 0x2b85e48ee60>"
      ]
     },
     "execution_count": 7,
     "metadata": {},
     "output_type": "execute_result"
    }
   ],
   "source": [
    "# Compiling the data before fitting it\n",
    "\n",
    "model.compile(optimizer='Adam',loss='sparse_categorical_crossentropy',metrics=['accuracy'])\n",
    "\n",
    "# Fitting the data\n",
    "\n",
    "model.fit(x_train_flattened,y_train,epochs=10)"
   ]
  },
  {
   "cell_type": "markdown",
   "id": "33c8242d",
   "metadata": {},
   "source": [
    "## Testing accuracy of the data"
   ]
  },
  {
   "cell_type": "code",
   "execution_count": 8,
   "id": "d1e57d78",
   "metadata": {},
   "outputs": [
    {
     "name": "stdout",
     "output_type": "stream",
     "text": [
      "313/313 [==============================] - 3s 4ms/step - loss: 0.0975 - accuracy: 0.9726\n"
     ]
    },
    {
     "data": {
      "text/plain": [
       "[0.09750626236200333, 0.972599983215332]"
      ]
     },
     "execution_count": 8,
     "metadata": {},
     "output_type": "execute_result"
    }
   ],
   "source": [
    "model.evaluate(x_test_flattened,y_test)\n",
    "# Got 97.42% Accuracy !!!!!!"
   ]
  },
  {
   "cell_type": "markdown",
   "id": "e3bfe23c",
   "metadata": {},
   "source": [
    "## Doing Predictions on test data"
   ]
  },
  {
   "cell_type": "code",
   "execution_count": 9,
   "id": "9022a9d2",
   "metadata": {},
   "outputs": [
    {
     "name": "stdout",
     "output_type": "stream",
     "text": [
      "313/313 [==============================] - 2s 3ms/step\n",
      "7\n",
      "The result is correct!!!!  :)\n"
     ]
    }
   ],
   "source": [
    "model_predictions=model.predict(x_test_flattened)\n",
    "\n",
    "predictions=[]\n",
    "\n",
    "for num in model_predictions:\n",
    "    predictions.append(np.argmax(num))\n",
    "    \n",
    "# verifying the returned answer...\n",
    "ind=0\n",
    "actual_ans=y_test[ind]\n",
    "# plt.imshow(pred)\n",
    "\n",
    "print(actual_ans)\n",
    "if predictions[ind]==y_test[ind]:\n",
    "    print(\"The result is correct!!!!  :)\")\n",
    "else:\n",
    "    print(\"The result is not correct....  :(\")"
   ]
  },
  {
   "cell_type": "markdown",
   "id": "20ffc518",
   "metadata": {},
   "source": [
    "## Testing on my own hand drawn data"
   ]
  },
  {
   "cell_type": "code",
   "execution_count": 10,
   "id": "c2aeadac",
   "metadata": {},
   "outputs": [],
   "source": [
    "from os import listdir\n",
    "from os import path\n",
    "\n",
    "\n",
    "image='CustomTest/test7.png'\n",
    "\n",
    "# converting to a single channeled image(grayscale) and also to an array\n",
    "def ConvSingleChannel(img):\n",
    "    imagePath=Image.open(img).convert('L')\n",
    "    imgArray=np.asarray(imagePath)\n",
    "    return imgArray\n",
    "\n",
    "# imgArr.shape -- imgArr is a 3d array of shape 28x28 pixels(actually 28x28x1, but both are still same...)\n",
    "# its important to convert it to 2d array inorder for the model to predict it...\n",
    "\n",
    "\n",
    "def ReshapeData(imgAr,shape):\n",
    "    imgAr=imgAr.reshape(shape)\n",
    "    imgAr=imgAr/255\n",
    "    return imgAr\n",
    "\n",
    "imgA=ConvSingleChannel(image)    \n",
    "imgArr=ReshapeData(imgA,(28*28),)\n",
    "# imgArr.shape # is in  a proper shape\n",
    "\n",
    "\n",
    "# Now i just need to append this array to another array...\n",
    "imgArr.shape\n",
    "Arr=np.array([imgArr])\n",
    "# Arr.shape\n",
    "# plt.imshow(imgA)"
   ]
  },
  {
   "cell_type": "code",
   "execution_count": 11,
   "id": "20421a6e",
   "metadata": {
    "scrolled": true
   },
   "outputs": [
    {
     "name": "stdout",
     "output_type": "stream",
     "text": [
      "1/1 [==============================] - 0s 92ms/step\n"
     ]
    },
    {
     "data": {
      "text/plain": [
       "7"
      ]
     },
     "execution_count": 11,
     "metadata": {},
     "output_type": "execute_result"
    }
   ],
   "source": [
    "# Predictions\n",
    "\n",
    "model_predictions=model.predict(Arr)\n",
    "prediction=np.argmax(model_predictions)\n",
    "prediction\n",
    "# the prediction is 7, which is just as per the img!\n",
    "# It has really a very nice accuracy!!!"
   ]
  },
  {
   "cell_type": "markdown",
   "id": "2dafd4b0",
   "metadata": {},
   "source": [
    "## Saving the Model"
   ]
  },
  {
   "cell_type": "code",
   "execution_count": 12,
   "id": "67ddc3c5",
   "metadata": {},
   "outputs": [
    {
     "name": "stdout",
     "output_type": "stream",
     "text": [
      "INFO:tensorflow:Assets written to: DigitClassifierModel\\assets\n"
     ]
    }
   ],
   "source": [
    "model.save(\"DigitClassifierModel\")"
   ]
  }
 ],
 "metadata": {
  "kernelspec": {
   "display_name": "Python 3 (ipykernel)",
   "language": "python",
   "name": "python3"
  },
  "language_info": {
   "codemirror_mode": {
    "name": "ipython",
    "version": 3
   },
   "file_extension": ".py",
   "mimetype": "text/x-python",
   "name": "python",
   "nbconvert_exporter": "python",
   "pygments_lexer": "ipython3",
   "version": "3.10.2"
  }
 },
 "nbformat": 4,
 "nbformat_minor": 5
}
